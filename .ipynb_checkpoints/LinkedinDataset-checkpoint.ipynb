{
 "cells": [
  {
   "cell_type": "code",
   "execution_count": 1,
   "id": "eb4db544-46f0-4ffe-a79f-66a7ef4d4e7f",
   "metadata": {
    "collapsed": true,
    "jupyter": {
     "outputs_hidden": true
    }
   },
   "outputs": [],
   "source": [
    "import pandas as pd"
   ]
  },
  {
   "cell_type": "code",
   "execution_count": 5,
   "id": "96fd5635-5b8d-4690-93c7-806a5b975652",
   "metadata": {
    "collapsed": true,
    "jupyter": {
     "outputs_hidden": true
    }
   },
   "outputs": [],
   "source": [
    "df = pd.read_csv('clean_jobs.csv')"
   ]
  },
  {
   "cell_type": "code",
   "execution_count": 17,
   "id": "eaa80d7c-dde7-41a3-bcd3-36093c4a3f38",
   "metadata": {
    "collapsed": true,
    "jupyter": {
     "outputs_hidden": true
    }
   },
   "outputs": [
    {
     "name": "stdout",
     "output_type": "stream",
     "text": [
      "<class 'pandas.core.frame.DataFrame'>\n",
      "RangeIndex: 327 entries, 0 to 326\n",
      "Data columns (total 10 columns):\n",
      " #   Column           Non-Null Count  Dtype  \n",
      "---  ------           --------------  -----  \n",
      " 0   id               327 non-null    int64  \n",
      " 1   title            327 non-null    object \n",
      " 2   company          327 non-null    object \n",
      " 3   location         327 non-null    object \n",
      " 4   link             327 non-null    object \n",
      " 5   source           327 non-null    object \n",
      " 6   date_posted      327 non-null    object \n",
      " 7   work_type        0 non-null      float64\n",
      " 8   employment_type  0 non-null      float64\n",
      " 9   description      327 non-null    object \n",
      "dtypes: float64(2), int64(1), object(7)\n",
      "memory usage: 25.7+ KB\n"
     ]
    }
   ],
   "source": [
    "\n",
    "df.info()"
   ]
  },
  {
   "cell_type": "code",
   "execution_count": 19,
   "id": "5be83ebe-0085-4a38-b56f-9365202051a4",
   "metadata": {
    "collapsed": true,
    "jupyter": {
     "outputs_hidden": true
    },
    "scrolled": true
   },
   "outputs": [
    {
     "data": {
      "text/html": [
       "<div>\n",
       "<style scoped>\n",
       "    .dataframe tbody tr th:only-of-type {\n",
       "        vertical-align: middle;\n",
       "    }\n",
       "\n",
       "    .dataframe tbody tr th {\n",
       "        vertical-align: top;\n",
       "    }\n",
       "\n",
       "    .dataframe thead th {\n",
       "        text-align: right;\n",
       "    }\n",
       "</style>\n",
       "<table border=\"1\" class=\"dataframe\">\n",
       "  <thead>\n",
       "    <tr style=\"text-align: right;\">\n",
       "      <th></th>\n",
       "      <th>id</th>\n",
       "      <th>title</th>\n",
       "      <th>company</th>\n",
       "      <th>location</th>\n",
       "      <th>link</th>\n",
       "      <th>source</th>\n",
       "      <th>date_posted</th>\n",
       "      <th>work_type</th>\n",
       "      <th>employment_type</th>\n",
       "      <th>description</th>\n",
       "    </tr>\n",
       "  </thead>\n",
       "  <tbody>\n",
       "    <tr>\n",
       "      <th>0</th>\n",
       "      <td>1</td>\n",
       "      <td>Data Analyst</td>\n",
       "      <td>Meta</td>\n",
       "      <td>New York, NY</td>\n",
       "      <td>https://www.linkedin.com/jobs/view/data-analys...</td>\n",
       "      <td>LinkedIn</td>\n",
       "      <td>2025-04-14</td>\n",
       "      <td>NaN</td>\n",
       "      <td>NaN</td>\n",
       "      <td>The Social Measurement team is a growing team ...</td>\n",
       "    </tr>\n",
       "    <tr>\n",
       "      <th>1</th>\n",
       "      <td>2</td>\n",
       "      <td>Data Analyst</td>\n",
       "      <td>Meta</td>\n",
       "      <td>San Francisco, CA</td>\n",
       "      <td>https://www.linkedin.com/jobs/view/data-analys...</td>\n",
       "      <td>LinkedIn</td>\n",
       "      <td>2025-04-14</td>\n",
       "      <td>NaN</td>\n",
       "      <td>NaN</td>\n",
       "      <td>The Social Measurement team is a growing team ...</td>\n",
       "    </tr>\n",
       "    <tr>\n",
       "      <th>2</th>\n",
       "      <td>3</td>\n",
       "      <td>Data Analyst</td>\n",
       "      <td>Meta</td>\n",
       "      <td>Los Angeles, CA</td>\n",
       "      <td>https://www.linkedin.com/jobs/view/data-analys...</td>\n",
       "      <td>LinkedIn</td>\n",
       "      <td>2025-04-14</td>\n",
       "      <td>NaN</td>\n",
       "      <td>NaN</td>\n",
       "      <td>The Social Measurement team is a growing team ...</td>\n",
       "    </tr>\n",
       "    <tr>\n",
       "      <th>3</th>\n",
       "      <td>4</td>\n",
       "      <td>Data Analyst</td>\n",
       "      <td>Meta</td>\n",
       "      <td>Washington, DC</td>\n",
       "      <td>https://www.linkedin.com/jobs/view/data-analys...</td>\n",
       "      <td>LinkedIn</td>\n",
       "      <td>2025-04-14</td>\n",
       "      <td>NaN</td>\n",
       "      <td>NaN</td>\n",
       "      <td>The Social Measurement team is a growing team ...</td>\n",
       "    </tr>\n",
       "    <tr>\n",
       "      <th>4</th>\n",
       "      <td>5</td>\n",
       "      <td>Data Analyst II</td>\n",
       "      <td>Pinterest</td>\n",
       "      <td>Chicago, IL</td>\n",
       "      <td>https://www.linkedin.com/jobs/view/data-analys...</td>\n",
       "      <td>LinkedIn</td>\n",
       "      <td>2025-04-16</td>\n",
       "      <td>NaN</td>\n",
       "      <td>NaN</td>\n",
       "      <td>About Pinterest\\n\\nMillions of people around t...</td>\n",
       "    </tr>\n",
       "  </tbody>\n",
       "</table>\n",
       "</div>"
      ],
      "text/plain": [
       "   id            title    company           location  \\\n",
       "0   1     Data Analyst       Meta       New York, NY   \n",
       "1   2     Data Analyst       Meta  San Francisco, CA   \n",
       "2   3     Data Analyst       Meta    Los Angeles, CA   \n",
       "3   4     Data Analyst       Meta     Washington, DC   \n",
       "4   5  Data Analyst II  Pinterest        Chicago, IL   \n",
       "\n",
       "                                                link    source date_posted  \\\n",
       "0  https://www.linkedin.com/jobs/view/data-analys...  LinkedIn  2025-04-14   \n",
       "1  https://www.linkedin.com/jobs/view/data-analys...  LinkedIn  2025-04-14   \n",
       "2  https://www.linkedin.com/jobs/view/data-analys...  LinkedIn  2025-04-14   \n",
       "3  https://www.linkedin.com/jobs/view/data-analys...  LinkedIn  2025-04-14   \n",
       "4  https://www.linkedin.com/jobs/view/data-analys...  LinkedIn  2025-04-16   \n",
       "\n",
       "   work_type  employment_type  \\\n",
       "0        NaN              NaN   \n",
       "1        NaN              NaN   \n",
       "2        NaN              NaN   \n",
       "3        NaN              NaN   \n",
       "4        NaN              NaN   \n",
       "\n",
       "                                         description  \n",
       "0  The Social Measurement team is a growing team ...  \n",
       "1  The Social Measurement team is a growing team ...  \n",
       "2  The Social Measurement team is a growing team ...  \n",
       "3  The Social Measurement team is a growing team ...  \n",
       "4  About Pinterest\\n\\nMillions of people around t...  "
      ]
     },
     "execution_count": 19,
     "metadata": {},
     "output_type": "execute_result"
    }
   ],
   "source": [
    "df.head()"
   ]
  },
  {
   "cell_type": "code",
   "execution_count": 23,
   "id": "f5bc3624-2333-46af-a951-2dc3e284fc23",
   "metadata": {
    "collapsed": true,
    "jupyter": {
     "outputs_hidden": true
    }
   },
   "outputs": [],
   "source": [
    "df_simplified = df[['title', 'description']]"
   ]
  },
  {
   "cell_type": "code",
   "execution_count": 25,
   "id": "a985faa0-f42a-47de-a16b-f359400b7765",
   "metadata": {
    "collapsed": true,
    "jupyter": {
     "outputs_hidden": true
    }
   },
   "outputs": [
    {
     "data": {
      "text/html": [
       "<div>\n",
       "<style scoped>\n",
       "    .dataframe tbody tr th:only-of-type {\n",
       "        vertical-align: middle;\n",
       "    }\n",
       "\n",
       "    .dataframe tbody tr th {\n",
       "        vertical-align: top;\n",
       "    }\n",
       "\n",
       "    .dataframe thead th {\n",
       "        text-align: right;\n",
       "    }\n",
       "</style>\n",
       "<table border=\"1\" class=\"dataframe\">\n",
       "  <thead>\n",
       "    <tr style=\"text-align: right;\">\n",
       "      <th></th>\n",
       "      <th>title</th>\n",
       "      <th>description</th>\n",
       "    </tr>\n",
       "  </thead>\n",
       "  <tbody>\n",
       "    <tr>\n",
       "      <th>0</th>\n",
       "      <td>Data Analyst</td>\n",
       "      <td>The Social Measurement team is a growing team ...</td>\n",
       "    </tr>\n",
       "    <tr>\n",
       "      <th>1</th>\n",
       "      <td>Data Analyst</td>\n",
       "      <td>The Social Measurement team is a growing team ...</td>\n",
       "    </tr>\n",
       "    <tr>\n",
       "      <th>2</th>\n",
       "      <td>Data Analyst</td>\n",
       "      <td>The Social Measurement team is a growing team ...</td>\n",
       "    </tr>\n",
       "    <tr>\n",
       "      <th>3</th>\n",
       "      <td>Data Analyst</td>\n",
       "      <td>The Social Measurement team is a growing team ...</td>\n",
       "    </tr>\n",
       "    <tr>\n",
       "      <th>4</th>\n",
       "      <td>Data Analyst II</td>\n",
       "      <td>About Pinterest\\n\\nMillions of people around t...</td>\n",
       "    </tr>\n",
       "  </tbody>\n",
       "</table>\n",
       "</div>"
      ],
      "text/plain": [
       "             title                                        description\n",
       "0     Data Analyst  The Social Measurement team is a growing team ...\n",
       "1     Data Analyst  The Social Measurement team is a growing team ...\n",
       "2     Data Analyst  The Social Measurement team is a growing team ...\n",
       "3     Data Analyst  The Social Measurement team is a growing team ...\n",
       "4  Data Analyst II  About Pinterest\\n\\nMillions of people around t..."
      ]
     },
     "execution_count": 25,
     "metadata": {},
     "output_type": "execute_result"
    }
   ],
   "source": [
    "df_simplified.head()"
   ]
  },
  {
   "cell_type": "code",
   "execution_count": 29,
   "id": "94315e9d-ec15-4bbe-8b44-4bfea0c240bc",
   "metadata": {
    "collapsed": true,
    "jupyter": {
     "outputs_hidden": true
    }
   },
   "outputs": [],
   "source": [
    "vagas = df_simplified['title'].unique()"
   ]
  },
  {
   "cell_type": "code",
   "execution_count": 35,
   "id": "41d23a67-ff5c-42d9-a63d-bfd04912c5d0",
   "metadata": {
    "collapsed": true,
    "jupyter": {
     "outputs_hidden": true
    }
   },
   "outputs": [],
   "source": [
    "cont_vagas = df_simplified['title'].value_counts()"
   ]
  },
  {
   "cell_type": "code",
   "execution_count": 41,
   "id": "1d9d243d-d903-41e5-a85a-2e061d0076f4",
   "metadata": {
    "collapsed": true,
    "jupyter": {
     "outputs_hidden": true
    }
   },
   "outputs": [
    {
     "name": "stdout",
     "output_type": "stream",
     "text": [
      "<class 'pandas.core.series.Series'>\n",
      "Index: 149 entries, Data Analyst to Data Engineer I\n",
      "Series name: count\n",
      "Non-Null Count  Dtype\n",
      "--------------  -----\n",
      "149 non-null    int64\n",
      "dtypes: int64(1)\n",
      "memory usage: 2.3+ KB\n"
     ]
    }
   ],
   "source": [
    "cont_vagas.info()"
   ]
  },
  {
   "cell_type": "code",
   "execution_count": 63,
   "id": "8d18cce5-0ab7-4d5d-bcdb-92845717660f",
   "metadata": {
    "collapsed": true,
    "jupyter": {
     "outputs_hidden": true
    }
   },
   "outputs": [],
   "source": [
    "def agrupar_dados(titulo, title_series):\n",
    "\n",
    "    def renomear(title):\n",
    "        if titulo in title.lower():\n",
    "            return titulo + \"(agrupado)\"\n",
    "        else:\n",
    "            return title\n",
    "        \n",
    "    title_renomeado = title_series.rename(index=renomear)\n",
    "\n",
    "    agrupado = title_renomeado.groupby(level=0).sum()\n",
    "\n",
    "    return agrupado\n",
    "\n"
   ]
  },
  {
   "cell_type": "code",
   "execution_count": 65,
   "id": "25274cfd-4129-4ef3-be1d-e4127e3601bd",
   "metadata": {
    "collapsed": true,
    "jupyter": {
     "outputs_hidden": true
    },
    "scrolled": true
   },
   "outputs": [
    {
     "name": "stdout",
     "output_type": "stream",
     "text": [
      "title\n",
      "(USA) Data Engineer III                       1\n",
      "AI Engineer                                   1\n",
      "AI/ML Developer                               1\n",
      "AI/ML Engineer                                1\n",
      "AI/ML Researcher                              1\n",
      "                                             ..\n",
      "Sr. Data Engineer                             1\n",
      "Sr. Data Engineer, Analytics                  1\n",
      "Staff Data Scientist, Strategy & Insights     1\n",
      "UK 2025 Data Engineer Internship              1\n",
      "data analyst(agrupado)                       89\n",
      "Name: count, Length: 123, dtype: int64\n"
     ]
    }
   ],
   "source": [
    "cont_vagas_agrupado = agrupar_dados(\"data analyst\", cont_vagas)\n",
    "print(cont_vagas_agrupado)"
   ]
  },
  {
   "cell_type": "code",
   "execution_count": 69,
   "id": "9b2a3c55-e94b-4449-8fe1-5d44295e8d58",
   "metadata": {
    "collapsed": true,
    "jupyter": {
     "outputs_hidden": true
    }
   },
   "outputs": [
    {
     "name": "stdout",
     "output_type": "stream",
     "text": [
      "title\n",
      "AI Engineer                                                    1\n",
      "AI/ML Developer                                                1\n",
      "AI/ML Engineer                                                 1\n",
      "AI/ML Researcher                                               1\n",
      "ANALISTA GESTAO DE INDICADORES PL                              1\n",
      "                                                              ..\n",
      "Software Engineer L4, Machine Learning Platform (Metaflow)     1\n",
      "Software Engineer, AI Platform - New Grad                      1\n",
      "Staff Data Scientist, Strategy & Insights                      1\n",
      "data analyst(agrupado)                                        89\n",
      "data engineer(agrupado)                                       96\n",
      "Name: count, Length: 81, dtype: int64\n"
     ]
    }
   ],
   "source": [
    "cont_vagas_agrupado_2 = agrupar_dados(\"data engineer\", cont_vagas_agrupado)\n",
    "print(cont_vagas_agrupado_2)"
   ]
  },
  {
   "cell_type": "code",
   "execution_count": 71,
   "id": "ba25526e-0b9b-4217-aabc-133ede687736",
   "metadata": {
    "collapsed": true,
    "jupyter": {
     "outputs_hidden": true
    }
   },
   "outputs": [
    {
     "name": "stdout",
     "output_type": "stream",
     "text": [
      "title\n",
      "AI Engineer                                                              1\n",
      "AI/ML Developer                                                          1\n",
      "AI/ML Engineer                                                           1\n",
      "AI/ML Researcher                                                         1\n",
      "ANALISTA GESTAO DE INDICADORES PL                                        1\n",
      "Analista de Análise de Dados Junior                                      1\n",
      "Analista de Business Intelligence Júnior                                 1\n",
      "Analista de Dados Junior - São Paulo/SP                                  1\n",
      "Analista de Dados Júnior                                                 1\n",
      "Analista de Dados Júnior | Data Viz                                      1\n",
      "Analyst                                                                  1\n",
      "Analyst, Data Analytics & Intelligence                                   1\n",
      "Analyst, Data Science                                                    1\n",
      "Analyst, Data Science, RMBS                                              1\n",
      "Analyst-Data Science                                                     1\n",
      "Analytics Associate                                                      1\n",
      "Analytics Engineer (L4) - Acquisition                                    1\n",
      "Cientista de Dados - Estágio                                             1\n",
      "Cientista de Dados II - Área Prevenção a Fraudes                         1\n",
      "Customer Insights Analyst                                                1\n",
      "Customer Relationship Management Analyst                                 1\n",
      "Data & Analytics, Analyst                                                1\n",
      "Data Analytics                                                           2\n",
      "Data Analytics Engineer                                                  1\n",
      "Data Associate - Gurgaon                                                 1\n",
      "Data Intern                                                              1\n",
      "Data Operation Engineer I                                                1\n",
      "Data Platform Analyst, Subscriptions                                     1\n",
      "Data Products Analyst, YouTube                                           4\n",
      "GEN AI/ML                                                                1\n",
      "Insights Analyst                                                         1\n",
      "Jr. Data & BI Analyst                                                    1\n",
      "Junior Artificial Intelligence (AI) / Machine Learning (ML) Engineer     1\n",
      "Junior Frontend Developer                                                1\n",
      "ML Software Engineer (L4/L5) - Media Algorithms                          1\n",
      "Machine Learning Engineer                                                9\n",
      "Machine Learning Engineer (Berlin, Germany)                              1\n",
      "Machine Learning Engineer (Junior)                                       1\n",
      "Machine Learning Engineer (L5) - Content & Media ML Foundations          1\n",
      "Machine Learning Software Engineer (L5) - Content and Studio             1\n",
      "Officer - Real Time Analytics                                            1\n",
      "Remote Engineer, Data, I                                                 1\n",
      "Research And Development Scientist                                       1\n",
      "Senior Software Engineer, Systems Infrastructure                         1\n",
      "Software Engineer 5, Data Clean Room                                     1\n",
      "Software Engineer L4, Machine Learning Platform (Metaflow)               1\n",
      "Software Engineer, AI Platform - New Grad                                1\n",
      "data analyst(agrupado)                                                  89\n",
      "data engineer(agrupado)                                                 96\n",
      "data scientist(agrupado)                                                83\n",
      "Name: count, dtype: int64\n"
     ]
    }
   ],
   "source": [
    "cont_vagas_3 = agrupar_dados(\"data scientist\", cont_vagas_agrupado_2)\n",
    "print(cont_vagas_3)"
   ]
  },
  {
   "cell_type": "code",
   "execution_count": 73,
   "id": "f225422c-42d4-48e5-a9cc-69d6a98e497c",
   "metadata": {
    "collapsed": true,
    "jupyter": {
     "outputs_hidden": true
    }
   },
   "outputs": [
    {
     "name": "stdout",
     "output_type": "stream",
     "text": [
      "title\n",
      "AI Engineer                                                              1\n",
      "AI/ML Developer                                                          1\n",
      "AI/ML Engineer                                                           1\n",
      "AI/ML Researcher                                                         1\n",
      "ANALISTA GESTAO DE INDICADORES PL                                        1\n",
      "Analista de Análise de Dados Junior                                      1\n",
      "Analista de Business Intelligence Júnior                                 1\n",
      "Analista de Dados Junior - São Paulo/SP                                  1\n",
      "Analista de Dados Júnior                                                 1\n",
      "Analista de Dados Júnior | Data Viz                                      1\n",
      "Analyst                                                                  1\n",
      "Analyst, Data Analytics & Intelligence                                   1\n",
      "Analytics Associate                                                      1\n",
      "Analytics Engineer (L4) - Acquisition                                    1\n",
      "Cientista de Dados - Estágio                                             1\n",
      "Cientista de Dados II - Área Prevenção a Fraudes                         1\n",
      "Customer Insights Analyst                                                1\n",
      "Customer Relationship Management Analyst                                 1\n",
      "Data & Analytics, Analyst                                                1\n",
      "Data Analytics                                                           2\n",
      "Data Analytics Engineer                                                  1\n",
      "Data Associate - Gurgaon                                                 1\n",
      "Data Intern                                                              1\n",
      "Data Operation Engineer I                                                1\n",
      "Data Platform Analyst, Subscriptions                                     1\n",
      "Data Products Analyst, YouTube                                           4\n",
      "GEN AI/ML                                                                1\n",
      "Insights Analyst                                                         1\n",
      "Jr. Data & BI Analyst                                                    1\n",
      "Junior Artificial Intelligence (AI) / Machine Learning (ML) Engineer     1\n",
      "Junior Frontend Developer                                                1\n",
      "ML Software Engineer (L4/L5) - Media Algorithms                          1\n",
      "Machine Learning Engineer                                                9\n",
      "Machine Learning Engineer (Berlin, Germany)                              1\n",
      "Machine Learning Engineer (Junior)                                       1\n",
      "Machine Learning Engineer (L5) - Content & Media ML Foundations          1\n",
      "Machine Learning Software Engineer (L5) - Content and Studio             1\n",
      "Officer - Real Time Analytics                                            1\n",
      "Remote Engineer, Data, I                                                 1\n",
      "Research And Development Scientist                                       1\n",
      "Senior Software Engineer, Systems Infrastructure                         1\n",
      "Software Engineer 5, Data Clean Room                                     1\n",
      "Software Engineer L4, Machine Learning Platform (Metaflow)               1\n",
      "Software Engineer, AI Platform - New Grad                                1\n",
      "data analyst(agrupado)                                                  89\n",
      "data engineer(agrupado)                                                 96\n",
      "data science(agrupado)                                                   3\n",
      "data scientist(agrupado)                                                83\n",
      "Name: count, dtype: int64\n"
     ]
    }
   ],
   "source": [
    "cont_vagas_4 = agrupar_dados(\"data science\", cont_vagas_3)\n",
    "print(cont_vagas_4)"
   ]
  },
  {
   "cell_type": "code",
   "execution_count": 75,
   "id": "f6087a5e-5cbb-4fdf-92af-d8119177026f",
   "metadata": {
    "collapsed": true,
    "jupyter": {
     "outputs_hidden": true
    }
   },
   "outputs": [
    {
     "name": "stdout",
     "output_type": "stream",
     "text": [
      "title\n",
      "AI Engineer                                          1\n",
      "AI/ML Developer                                      1\n",
      "AI/ML Engineer                                       1\n",
      "AI/ML Researcher                                     1\n",
      "ANALISTA GESTAO DE INDICADORES PL                    1\n",
      "Analista de Análise de Dados Junior                  1\n",
      "Analista de Business Intelligence Júnior             1\n",
      "Analista de Dados Junior - São Paulo/SP              1\n",
      "Analista de Dados Júnior                             1\n",
      "Analista de Dados Júnior | Data Viz                  1\n",
      "Analyst                                              1\n",
      "Analyst, Data Analytics & Intelligence               1\n",
      "Analytics Associate                                  1\n",
      "Analytics Engineer (L4) - Acquisition                1\n",
      "Cientista de Dados - Estágio                         1\n",
      "Cientista de Dados II - Área Prevenção a Fraudes     1\n",
      "Customer Insights Analyst                            1\n",
      "Customer Relationship Management Analyst             1\n",
      "Data & Analytics, Analyst                            1\n",
      "Data Analytics                                       2\n",
      "Data Analytics Engineer                              1\n",
      "Data Associate - Gurgaon                             1\n",
      "Data Intern                                          1\n",
      "Data Operation Engineer I                            1\n",
      "Data Platform Analyst, Subscriptions                 1\n",
      "Data Products Analyst, YouTube                       4\n",
      "GEN AI/ML                                            1\n",
      "Insights Analyst                                     1\n",
      "Jr. Data & BI Analyst                                1\n",
      "Junior Frontend Developer                            1\n",
      "ML Software Engineer (L4/L5) - Media Algorithms      1\n",
      "Officer - Real Time Analytics                        1\n",
      "Remote Engineer, Data, I                             1\n",
      "Research And Development Scientist                   1\n",
      "Senior Software Engineer, Systems Infrastructure     1\n",
      "Software Engineer 5, Data Clean Room                 1\n",
      "Software Engineer, AI Platform - New Grad            1\n",
      "data analyst(agrupado)                              89\n",
      "data engineer(agrupado)                             96\n",
      "data science(agrupado)                               3\n",
      "data scientist(agrupado)                            83\n",
      "machine learning(agrupado)                          15\n",
      "Name: count, dtype: int64\n"
     ]
    }
   ],
   "source": [
    "cont_vagas_5 = agrupar_dados(\"machine learning\", cont_vagas_4)\n",
    "print(cont_vagas_5)"
   ]
  },
  {
   "cell_type": "code",
   "execution_count": 79,
   "id": "9bc37bbf-f772-4546-80ae-ec9b02e28c1e",
   "metadata": {
    "collapsed": true,
    "jupyter": {
     "outputs_hidden": true
    }
   },
   "outputs": [
    {
     "name": "stdout",
     "output_type": "stream",
     "text": [
      "title\n",
      "AI Engineer                                          1\n",
      "AI/ML Developer                                      1\n",
      "AI/ML Engineer                                       1\n",
      "AI/ML Researcher                                     1\n",
      "Analyst                                              1\n",
      "Analyst, Data Analytics & Intelligence               1\n",
      "Analytics Associate                                  1\n",
      "Analytics Engineer (L4) - Acquisition                1\n",
      "Cientista de Dados - Estágio                         1\n",
      "Cientista de Dados II - Área Prevenção a Fraudes     1\n",
      "Customer Insights Analyst                            1\n",
      "Customer Relationship Management Analyst             1\n",
      "Data & Analytics, Analyst                            1\n",
      "Data Analytics                                       2\n",
      "Data Analytics Engineer                              1\n",
      "Data Associate - Gurgaon                             1\n",
      "Data Intern                                          1\n",
      "Data Operation Engineer I                            1\n",
      "Data Platform Analyst, Subscriptions                 1\n",
      "Data Products Analyst, YouTube                       4\n",
      "GEN AI/ML                                            1\n",
      "Insights Analyst                                     1\n",
      "Jr. Data & BI Analyst                                1\n",
      "Junior Frontend Developer                            1\n",
      "ML Software Engineer (L4/L5) - Media Algorithms      1\n",
      "Officer - Real Time Analytics                        1\n",
      "Remote Engineer, Data, I                             1\n",
      "Research And Development Scientist                   1\n",
      "Senior Software Engineer, Systems Infrastructure     1\n",
      "Software Engineer 5, Data Clean Room                 1\n",
      "Software Engineer, AI Platform - New Grad            1\n",
      "analista(agrupado)                                   6\n",
      "data analyst(agrupado)                              89\n",
      "data engineer(agrupado)                             96\n",
      "data science(agrupado)                               3\n",
      "data scientist(agrupado)                            83\n",
      "machine learning(agrupado)                          15\n",
      "Name: count, dtype: int64\n"
     ]
    }
   ],
   "source": [
    "cont_vagas_6 = agrupar_dados(\"analista\", cont_vagas_5)\n",
    "print(cont_vagas_6)"
   ]
  },
  {
   "cell_type": "code",
   "execution_count": 81,
   "id": "5c58c903-acbe-4ae1-bf2d-da23c52ad999",
   "metadata": {
    "collapsed": true,
    "jupyter": {
     "outputs_hidden": true
    }
   },
   "outputs": [
    {
     "name": "stdout",
     "output_type": "stream",
     "text": [
      "title\n",
      "AI Engineer                                           1\n",
      "AI/ML Developer                                       1\n",
      "AI/ML Engineer                                        1\n",
      "AI/ML Researcher                                      1\n",
      "Analytics Associate                                   1\n",
      "Analytics Engineer (L4) - Acquisition                 1\n",
      "Cientista de Dados - Estágio                          1\n",
      "Cientista de Dados II - Área Prevenção a Fraudes      1\n",
      "Data Analytics                                        2\n",
      "Data Analytics Engineer                               1\n",
      "Data Associate - Gurgaon                              1\n",
      "Data Intern                                           1\n",
      "Data Operation Engineer I                             1\n",
      "GEN AI/ML                                             1\n",
      "Junior Frontend Developer                             1\n",
      "ML Software Engineer (L4/L5) - Media Algorithms       1\n",
      "Officer - Real Time Analytics                         1\n",
      "Remote Engineer, Data, I                              1\n",
      "Research And Development Scientist                    1\n",
      "Senior Software Engineer, Systems Infrastructure      1\n",
      "Software Engineer 5, Data Clean Room                  1\n",
      "Software Engineer, AI Platform - New Grad             1\n",
      "analista(agrupado)                                    6\n",
      "analyst(agrupado)                                   101\n",
      "data engineer(agrupado)                              96\n",
      "data science(agrupado)                                3\n",
      "data scientist(agrupado)                             83\n",
      "machine learning(agrupado)                           15\n",
      "Name: count, dtype: int64\n"
     ]
    }
   ],
   "source": [
    "cont_vagas_7 = agrupar_dados(\"analyst\", cont_vagas_6)\n",
    "print(cont_vagas_7)"
   ]
  },
  {
   "cell_type": "code",
   "execution_count": 87,
   "id": "3cfdec73-fab1-4148-8018-60979aa46932",
   "metadata": {
    "collapsed": true,
    "jupyter": {
     "outputs_hidden": true
    }
   },
   "outputs": [],
   "source": [
    "from collections import Counter\n",
    "import re"
   ]
  },
  {
   "cell_type": "code",
   "execution_count": 101,
   "id": "6d54e4ba-65f4-44b8-89cc-c73dbdaa0922",
   "metadata": {
    "collapsed": true,
    "jupyter": {
     "outputs_hidden": true
    },
    "scrolled": true
   },
   "outputs": [
    {
     "name": "stdout",
     "output_type": "stream",
     "text": [
      "[('data', 1035), ('will', 485), ('product', 470), ('experience', 426), ('meta', 401), ('our', 396), ('build', 261), ('people', 249), ('business', 245), ('work', 242), ('analytics', 233), ('more', 204), ('technical', 203), ('help', 202), ('insights', 202), ('teams', 178), ('benefits', 166), ('world', 164), ('analytical', 163), ('science', 163), ('team', 163), ('skills', 162), ('engineering', 154), ('using', 154), ('analysis', 150), ('about', 142), ('learning', 142), ('other', 136), ('problems', 132), ('including', 131), ('development', 128), ('across', 127), ('status', 127), ('years', 127), ('influence', 126), ('their', 125), ('qualifications', 124), ('products', 122), ('gender', 122), ('beyond', 120), ('not', 120), ('compensation', 120), ('through', 119), ('statistical', 118), ('degree', 117), ('scientist', 115), ('businesses', 112), ('identify', 111), ('partner', 111), ('approaches', 111), ('quantitative', 107), ('marketing', 106), ('understand', 105), ('accommodations', 105), ('employment', 104), ('models', 103), ('applicable', 102), ('opportunities', 101), ('role', 101), ('cross', 100), ('python', 100), ('support', 99), ('use', 98), ('sql', 98), ('functional', 97), ('disability', 97), ('machine', 97), ('what', 96), ('please', 96), ('develop', 94), ('decisions', 93), ('working', 93), ('wide', 91), ('shape', 90), ('related', 90), ('field', 89), ('driven', 88), ('process', 88), ('000', 88), ('based', 86), ('have', 86), ('partners', 85), ('technologies', 85), ('like', 85), ('opportunity', 85), ('applications', 83), ('billions', 83), ('equity', 83), ('base', 83), ('show', 83), ('recommendations', 82), ('collaborate', 81), ('strategy', 81), ('sexual', 80), ('experiences', 78), ('protected', 78), ('bonus', 77), ('solve', 75), ('investment', 75), ('drive', 75), ('location', 75), ('new', 74), ('metrics', 74), ('individual', 73), ('year', 73), ('around', 72), ('solutions', 72), ('relevant', 71), ('future', 70), ('challenges', 70), ('languages', 70), ('all', 70), ('range', 69), ('who', 69), ('salary', 69), ('tools', 69), ('growth', 68), ('statistics', 68), ('connect', 68), ('law', 68), ('one', 67), ('large', 67), ('ability', 67), ('research', 66), ('sales', 66), ('different', 66), ('building', 66), ('also', 66), ('learn', 66), ('design', 66), ('strong', 66), ('define', 65), ('millions', 65), ('impact', 65), ('test', 65), ('connection', 65), ('knowledge', 65), ('part', 64), ('time', 64), ('complex', 63), ('applicants', 63), ('communication', 62), ('rate', 62), ('into', 62), ('instagram', 61), ('equal', 61), ('facing', 60), ('software', 60), ('computer', 60), ('screens', 60), ('may', 60), ('any', 60), ('sets', 59), ('value', 58), ('committed', 58), ('facebook', 57), ('messenger', 56), ('whatsapp', 56), ('but', 56), ('include', 56), ('hundreds', 55), ('array', 55), ('key', 55), ('minimum', 55), ('bachelor', 55), ('com', 55), ('understanding', 55), ('job', 55), ('performance', 55), ('such', 55), ('ensure', 54), ('strategic', 54), ('responsibilities', 54), ('trends', 54), ('identity', 54), ('expertise', 53), ('mathematics', 53), ('preferred', 53), ('information', 53), ('environment', 53), ('technology', 52), ('employer', 52), ('intelligence', 52), ('company', 52), ('bring', 51), ('developing', 51), ('medical', 51), ('providing', 51), ('need', 51), ('apply', 50), ('digital', 50), ('orientation', 50), ('leadership', 49), ('improve', 49), ('religion', 48), ('origin', 48), ('annual', 48), ('provide', 48), ('them', 47), ('race', 47)]\n"
     ]
    }
   ],
   "source": [
    "df_ds = df[df['title'].str.contains('data scientist', case=False, na=False)]\n",
    "\n",
    "text_description = ' '.join(df_ds['description'].dropna().tolist()).lower()\n",
    "\n",
    "palavras = re.findall(r'\\b\\w+\\b', text_description)\n",
    "\n",
    "stopwords = set(['the', 'and', 'to', 'of', 'in', 'a', 'for', 'with', 'on', 'is',\n",
    "                 'as', 'at', 'by', 'an', 'be', 'are', 'from', 'that', 'this', 'or', 'we', 'you', 'your'])\n",
    "\n",
    "skills = [p for p in palavras if p not in stopwords and len(p)>2]\n",
    "\n",
    "contagem_skills_ds = Counter(skills).most_common(200)\n",
    "\n",
    "print(contagem_skills_ds)"
   ]
  },
  {
   "cell_type": "code",
   "execution_count": 103,
   "id": "9ed37135-4225-48c1-aaf5-2f34068d2e22",
   "metadata": {
    "collapsed": true,
    "jupyter": {
     "outputs_hidden": true
    }
   },
   "outputs": [
    {
     "name": "stdout",
     "output_type": "stream",
     "text": [
      "[('data', 1047), ('our', 360), ('experience', 359), ('business', 289), ('work', 228), ('team', 221), ('will', 216), ('analysis', 180), ('skills', 172), ('more', 161), ('role', 145), ('insights', 140), ('analytics', 137), ('analyst', 130), ('other', 128), ('tools', 128), ('support', 125), ('benefits', 120), ('reporting', 119), ('sql', 118), ('including', 112), ('ability', 110), ('strong', 106), ('status', 105), ('time', 100), ('about', 99), ('working', 96), ('related', 95), ('all', 95), ('have', 93), ('teams', 93), ('requirements', 92), ('their', 91), ('show', 89), ('marketing', 85), ('performance', 85), ('develop', 85), ('years', 85), ('not', 84), ('company', 84), ('technical', 83), ('required', 82), ('position', 81), ('across', 80), ('such', 79), ('employment', 79), ('reports', 79), ('dashboards', 78), ('gender', 78), ('tableau', 77), ('into', 77), ('management', 77), ('power', 77), ('help', 75), ('stakeholders', 75), ('new', 75), ('opportunity', 74), ('based', 74), ('information', 73), ('people', 72), ('qualifications', 72), ('disability', 71), ('process', 70), ('analytical', 69), ('responsibilities', 69), ('what', 69), ('key', 69), ('solutions', 68), ('may', 68), ('compensation', 68), ('processes', 68), ('environment', 67), ('any', 67), ('knowledge', 67), ('python', 66), ('using', 65), ('degree', 65), ('quality', 65), ('job', 64), ('best', 63), ('science', 63), ('driven', 62), ('identify', 61), ('paid', 61), ('social', 60), ('life', 60), ('opportunities', 60), ('employees', 60), ('client', 60), ('create', 59), ('range', 59), ('visualization', 59), ('within', 58), ('can', 58), ('needs', 58), ('proficiency', 57), ('provide', 57), ('field', 56), ('meta', 56), ('office', 55), ('fanduel', 55), ('ensure', 55), ('through', 55), ('trends', 54), ('projects', 54), ('please', 54), ('drive', 54), ('employer', 53), ('health', 53), ('communication', 53), ('preferred', 52), ('clients', 52), ('world', 51), ('equal', 51), ('complex', 50), ('join', 50), ('build', 49), ('protected', 49), ('internal', 49), ('services', 49), ('measurement', 48), ('high', 48), ('applicants', 48), ('techniques', 47), ('sexual', 47), ('applicable', 47), ('salary', 47), ('collaborate', 47), ('make', 47), ('excel', 47), ('also', 46), ('maintain', 46), ('000', 46), ('product', 46), ('analyze', 46), ('part', 46), ('customer', 46), ('impact', 45), ('bachelor', 45), ('who', 45), ('digital', 45), ('medical', 45), ('law', 45), ('industry', 45), ('development', 45), ('communicate', 44), ('orientation', 44), ('com', 44), ('looking', 44), ('insurance', 44), ('making', 44), ('statistics', 43), ('advanced', 43), ('building', 43), ('location', 43), ('functional', 43), ('various', 43), ('employee', 43), ('decisions', 43), ('research', 42), ('technology', 42), ('age', 42), ('they', 42), ('expertise', 42), ('personal', 42), ('design', 42), ('systems', 42), ('technologies', 41), ('race', 41), ('growth', 41), ('value', 41), ('day', 41), ('visualizations', 40), ('well', 40), ('statistical', 39), ('like', 39), ('identity', 39), ('actionable', 39), ('national', 38), ('learning', 38), ('need', 38), ('include', 38), ('project', 38), ('responsible', 37), ('religion', 37), ('state', 37), ('program', 37), ('platform', 37), ('plan', 37), ('cross', 37), ('every', 37), ('application', 37), ('global', 37), ('decision', 37), ('understand', 36), ('relevant', 36), ('committed', 36), ('its', 36), ('off', 36), ('understanding', 36)]\n"
     ]
    }
   ],
   "source": [
    "df_da = df[df['title'].str.contains('data analyst', case=False, na=False)]\n",
    "\n",
    "text_description = ' '.join(df_da['description'].dropna().tolist()).lower()\n",
    "\n",
    "palavras = re.findall(r'\\b\\w+\\b', text_description)\n",
    "\n",
    "stopwords = set(['the', 'and', 'to', 'of', 'in', 'a', 'for', 'with', 'on', 'is',\n",
    "                 'as', 'at', 'by', 'an', 'be', 'are', 'from', 'that', 'this', 'or', 'we', 'you', 'your'])\n",
    "\n",
    "skills = [p for p in palavras if p not in stopwords and len(p)>2]\n",
    "\n",
    "contagem_skills_da = Counter(skills).most_common(200)\n",
    "\n",
    "print(contagem_skills_da)"
   ]
  },
  {
   "cell_type": "code",
   "execution_count": 127,
   "id": "1dd2ddd6-1b33-424b-a478-58da306d8c37",
   "metadata": {
    "collapsed": true,
    "jupyter": {
     "outputs_hidden": true
    }
   },
   "outputs": [
    {
     "name": "stdout",
     "output_type": "stream",
     "text": [
      "[('python', 135), ('machine_learning', 110), ('sql', 98), ('power_bi', 21), ('tableau', 20), ('spark', 13), ('azure', 10), ('aws', 9), ('excel', 3)]\n"
     ]
    }
   ],
   "source": [
    "import re\n",
    "\n",
    "skills_alvo = {\n",
    "    'python': [r'\\bpython\\b', r'\\bpython[,\\\\.;]'],\n",
    "    'sql': [r'\\bsql\\b', r'\\bmysql\\b', r'\\bpostgresql\\b'],\n",
    "    'power_bi': [r'\\bpower\\s*bi\\b', r'\\bpowerbi\\b'],\n",
    "    'tableau': [r'\\btableau\\b'],\n",
    "    'excel': [r'\\bexcel\\b'],\n",
    "    'machine_learning': [r'\\bmachine\\s*learning\\b', r'\\bml\\b'],\n",
    "    'spark': [r'\\bspark\\b'],\n",
    "    'aws': [r'\\baws\\b'],\n",
    "    'azure': [r'\\bazure\\b']\n",
    "}\n",
    "\n",
    "contagem_ds = defaultdict(int)\n",
    "\n",
    "for desc in df_ds['description'].dropna().str.lower():\n",
    "    for skill, padroes in skills_alvo.items():\n",
    "        for padrao in padroes:\n",
    "            contagem_ds[skill] += len(re.findall(padrao, desc))\n",
    "\n",
    "print(sorted(contagem_ds.items(), key=lambda x: x[1], reverse=True))"
   ]
  },
  {
   "cell_type": "code",
   "execution_count": 129,
   "id": "2e7be5fa-b225-45f9-a290-44774d588214",
   "metadata": {
    "collapsed": true,
    "jupyter": {
     "outputs_hidden": true
    }
   },
   "outputs": [
    {
     "name": "stdout",
     "output_type": "stream",
     "text": [
      "[('sql', 118), ('python', 89), ('power_bi', 82), ('tableau', 77), ('excel', 47), ('machine_learning', 20), ('aws', 13), ('azure', 13), ('spark', 8)]\n"
     ]
    }
   ],
   "source": [
    "import re\n",
    "\n",
    "skills_alvo = {\n",
    "    'python': [r'\\bpython\\b', r'\\bpython[,\\\\.;]'],\n",
    "    'sql': [r'\\bsql\\b', r'\\bmysql\\b', r'\\bpostgresql\\b'],\n",
    "    'power_bi': [r'\\bpower\\s*bi\\b', r'\\bpowerbi\\b'],\n",
    "    'tableau': [r'\\btableau\\b'],\n",
    "    'excel': [r'\\bexcel\\b'],\n",
    "    'machine_learning': [r'\\bmachine\\s*learning\\b', r'\\bml\\b'],\n",
    "    'spark': [r'\\bspark\\b'],\n",
    "    'aws': [r'\\baws\\b'],\n",
    "    'azure': [r'\\bazure\\b']\n",
    "}\n",
    "\n",
    "contagem_da = defaultdict(int)\n",
    "\n",
    "for desc in df_da['description'].dropna().str.lower():\n",
    "    for skill, padroes in skills_alvo.items():\n",
    "        for padrao in padroes:\n",
    "            contagem_da[skill] += len(re.findall(padrao, desc))\n",
    "\n",
    "print(sorted(contagem_da.items(), key=lambda x: x[1], reverse=True))"
   ]
  },
  {
   "cell_type": "code",
   "execution_count": 123,
   "id": "3eb3ec13-c5c5-406f-940e-8bf7ccba46e4",
   "metadata": {
    "collapsed": true,
    "jupyter": {
     "outputs_hidden": true
    },
    "scrolled": true
   },
   "outputs": [
    {
     "name": "stdout",
     "output_type": "stream",
     "text": [
      "[('data', 2217), ('experience', 677), ('our', 572), ('will', 486), ('meta', 311), ('engineering', 290), ('business', 273), ('build', 272), ('work', 231), ('team', 231), ('more', 228), ('solutions', 216), ('product', 211), ('design', 208), ('pipelines', 189), ('benefits', 189), ('people', 187), ('years', 187), ('skills', 181), ('development', 177), ('engineer', 173), ('about', 172), ('qualifications', 166), ('technologies', 163), ('have', 160), ('working', 155), ('building', 153), ('including', 152), ('technical', 149), ('systems', 148), ('world', 144), ('sql', 140), ('compensation', 139), ('support', 138), ('quality', 138), ('teams', 138), ('role', 137), ('other', 137), ('status', 133), ('help', 132), ('science', 130), ('across', 129), ('like', 129), ('products', 128), ('job', 125), ('opportunity', 124), ('company', 123), ('new', 121), ('etl', 120), ('gender', 119), ('disability', 117), ('python', 116), ('please', 116), ('using', 115), ('degree', 115), ('not', 114), ('management', 114), ('strong', 111), ('azure', 111), ('related', 110), ('what', 108), ('scalable', 107), ('software', 107), ('analytics', 106), ('cloud', 105), ('time', 103), ('such', 103), ('tools', 103), ('show', 103), ('all', 101), ('processes', 101), ('their', 100), ('best', 100), ('beyond', 100), ('employment', 100), ('one', 99), ('technology', 99), ('opportunities', 99), ('computer', 98), ('000', 97), ('ensure', 96), ('process', 96), ('can', 95), ('infrastructure', 95), ('accommodations', 95), ('preferred', 94), ('field', 94), ('applicable', 94), ('position', 92), ('knowledge', 91), ('based', 90), ('year', 89), ('future', 88), ('include', 88), ('security', 87), ('implement', 87), ('create', 86), ('engineers', 86), ('requirements', 85), ('key', 85), ('may', 83), ('models', 82), ('scale', 81), ('use', 80), ('learning', 80), ('base', 80), ('required', 79), ('complex', 79), ('insights', 79), ('information', 79), ('also', 78), ('protected', 78), ('any', 77), ('problems', 77), ('businesses', 77), ('services', 76), ('who', 76), ('sexual', 76), ('challenges', 76), ('responsibilities', 76), ('well', 75), ('aws', 75), ('collaborate', 74), ('needs', 74), ('performance', 74), ('digital', 74), ('amazon', 74), ('growth', 73), ('equal', 73), ('through', 73), ('high', 72), ('employer', 72), ('law', 72), ('develop', 71), ('salary', 71), ('shape', 71), ('projects', 71), ('some', 70), ('location', 70), ('manage', 70), ('impact', 69), ('modeling', 69), ('part', 69), ('applications', 69), ('community', 69), ('most', 68), ('experiences', 67), ('spark', 67), ('equity', 67), ('range', 66), ('architecture', 66), ('minimum', 66), ('way', 66), ('committed', 66), ('users', 66), ('programming', 65), ('make', 65), ('while', 65), ('environment', 65), ('employees', 65), ('internal', 65), ('identify', 65), ('bachelor', 65), ('bonus', 65), ('drive', 65), ('global', 65), ('understanding', 64), ('optimize', 64), ('need', 64), ('applicants', 63), ('com', 63), ('partner', 62), ('analytical', 62), ('scientists', 61), ('where', 61), ('practices', 60), ('address', 60), ('improve', 60), ('connect', 60), ('qualified', 60), ('code', 59), ('customers', 59), ('individual', 59), ('solving', 59), ('career', 59), ('paid', 58), ('around', 58), ('but', 58), ('language', 58), ('big', 58), ('intelligence', 58), ('providing', 57), ('leverage', 57), ('large', 57), ('production', 57), ('frameworks', 56), ('partners', 56), ('ownership', 56), ('communication', 56), ('service', 55)]\n"
     ]
    }
   ],
   "source": [
    "df_de = df[df['title'].str.contains('data engineer', case=False, na=False)]\n",
    "\n",
    "text_description = ' '.join(df_de['description'].dropna().tolist()).lower()\n",
    "\n",
    "palavras = re.findall(r'\\b\\w+\\b', text_description)\n",
    "\n",
    "stopwords = set(['the', 'and', 'to', 'of', 'in', 'a', 'for', 'with', 'on', 'is',\n",
    "                 'as', 'at', 'by', 'an', 'be', 'are', 'from', 'that', 'this', 'or', 'we', 'you', 'your'])\n",
    "\n",
    "skills = [p for p in palavras if p not in stopwords and len(p)>2]\n",
    "\n",
    "contagem_skills_de = Counter(skills).most_common(200)\n",
    "\n",
    "print(contagem_skills_de)"
   ]
  },
  {
   "cell_type": "code",
   "execution_count": 131,
   "id": "a86e5af5-cf51-48c8-9bbd-50ade10130f5",
   "metadata": {
    "collapsed": true,
    "jupyter": {
     "outputs_hidden": true
    }
   },
   "outputs": [
    {
     "name": "stdout",
     "output_type": "stream",
     "text": [
      "[('python', 175), ('sql', 158), ('azure', 111), ('aws', 75), ('spark', 67), ('machine_learning', 60), ('power_bi', 18), ('tableau', 12), ('excel', 2)]\n"
     ]
    }
   ],
   "source": [
    "import re\n",
    "\n",
    "skills_alvo = {\n",
    "    'python': [r'\\bpython\\b', r'\\bpython[,\\\\.;]'],\n",
    "    'sql': [r'\\bsql\\b', r'\\bmysql\\b', r'\\bpostgresql\\b'],\n",
    "    'power_bi': [r'\\bpower\\s*bi\\b', r'\\bpowerbi\\b'],\n",
    "    'tableau': [r'\\btableau\\b'],\n",
    "    'excel': [r'\\bexcel\\b'],\n",
    "    'machine_learning': [r'\\bmachine\\s*learning\\b', r'\\bml\\b'],\n",
    "    'spark': [r'\\bspark\\b'],\n",
    "    'aws': [r'\\baws\\b'],\n",
    "    'azure': [r'\\bazure\\b']\n",
    "}\n",
    "\n",
    "contagem_de = defaultdict(int)\n",
    "\n",
    "for desc in df_de['description'].dropna().str.lower():\n",
    "    for skill, padroes in skills_alvo.items():\n",
    "        for padrao in padroes:\n",
    "            contagem_de[skill] += len(re.findall(padrao, desc))\n",
    "\n",
    "print(sorted(contagem_de.items(), key=lambda x: x[1], reverse=True))"
   ]
  },
  {
   "cell_type": "code",
   "execution_count": 139,
   "id": "7a534d4d-f8d6-4929-ba12-a7655bb7bdcf",
   "metadata": {
    "collapsed": true,
    "jupyter": {
     "outputs_hidden": true
    }
   },
   "outputs": [
    {
     "name": "stdout",
     "output_type": "stream",
     "text": [
      "dict_items([('python', 175), ('sql', 158), ('power_bi', 18), ('tableau', 12), ('excel', 2), ('machine_learning', 60), ('spark', 67), ('aws', 75), ('azure', 111)])\n",
      "dict_items([('python', 89), ('sql', 118), ('power_bi', 82), ('tableau', 77), ('excel', 47), ('machine_learning', 20), ('spark', 8), ('aws', 13), ('azure', 13)])\n",
      "dict_items([('python', 135), ('sql', 98), ('power_bi', 21), ('tableau', 20), ('excel', 3), ('machine_learning', 110), ('spark', 13), ('aws', 9), ('azure', 10)])\n"
     ]
    }
   ],
   "source": [
    "print(contagem_de.items())\n",
    "print(contagem_da.items())\n",
    "print(contagem_ds.items())\n"
   ]
  },
  {
   "cell_type": "code",
   "execution_count": 153,
   "id": "c061bb4c-9bb4-4f5a-8519-3cceeb49bfc1",
   "metadata": {
    "collapsed": true,
    "jupyter": {
     "outputs_hidden": true
    }
   },
   "outputs": [
    {
     "name": "stdout",
     "output_type": "stream",
     "text": [
      "                  Data Engineer  Data Analyst  Data Scientist  Total Geral\n",
      "python                      175            89             135          399\n",
      "sql                         158           118              98          374\n",
      "machine_learning             60            20             110          190\n",
      "azure                       111            13              10          134\n",
      "power_bi                     18            82              21          121\n",
      "tableau                      12            77              20          109\n",
      "aws                          75            13               9           97\n",
      "spark                        67             8              13           88\n",
      "excel                         2            47               3           52\n"
     ]
    }
   ],
   "source": [
    "df_skills = pd.DataFrame({\n",
    "    'Data Engineer': contagem_de,\n",
    "    'Data Analyst': contagem_da,\n",
    "    'Data Scientist': contagem_ds,\n",
    "}).fillna(0)\n",
    "\n",
    "df_skills['Total Geral'] = df_skills.sum(axis=1)\n",
    "\n",
    "df_skills = df_skills.sort_values(by='Total Geral', ascending=False)\n",
    "\n",
    "print(df_skills)"
   ]
  },
  {
   "cell_type": "code",
   "execution_count": 155,
   "id": "962adac9-e978-4bc3-8505-d38312b73e1a",
   "metadata": {
    "collapsed": true,
    "jupyter": {
     "outputs_hidden": true
    }
   },
   "outputs": [],
   "source": [
    "df_skills.to_csv('skills_por_cargo.csv', index=True)"
   ]
  },
  {
   "cell_type": "code",
   "execution_count": null,
   "id": "4cf0a14d-5742-4551-9cae-2a273a387dc5",
   "metadata": {
    "collapsed": true,
    "jupyter": {
     "outputs_hidden": true
    }
   },
   "outputs": [],
   "source": []
  }
 ],
 "metadata": {
  "kernelspec": {
   "display_name": "Python [conda env:base] *",
   "language": "python",
   "name": "conda-base-py"
  },
  "language_info": {
   "codemirror_mode": {
    "name": "ipython",
    "version": 3
   },
   "file_extension": ".py",
   "mimetype": "text/x-python",
   "name": "python",
   "nbconvert_exporter": "python",
   "pygments_lexer": "ipython3",
   "version": "3.12.7"
  }
 },
 "nbformat": 4,
 "nbformat_minor": 5
}
